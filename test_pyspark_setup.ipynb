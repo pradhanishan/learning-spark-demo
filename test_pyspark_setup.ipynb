{
 "cells": [
  {
   "cell_type": "code",
   "execution_count": 1,
   "id": "9b96a87c",
   "metadata": {},
   "outputs": [
    {
     "name": "stderr",
     "output_type": "stream",
     "text": [
      "WARNING: Using incubator modules: jdk.incubator.vector\n",
      "Using Spark's default log4j profile: org/apache/spark/log4j2-defaults.properties\n",
      "25/06/09 10:29:15 WARN Utils: Your hostname, ishans-MacBook-Pro.local, resolves to a loopback address: 127.0.0.1; using 192.168.1.124 instead (on interface en0)\n",
      "25/06/09 10:29:15 WARN Utils: Set SPARK_LOCAL_IP if you need to bind to another address\n",
      "Using Spark's default log4j profile: org/apache/spark/log4j2-defaults.properties\n",
      "Setting default log level to \"WARN\".\n",
      "To adjust logging level use sc.setLogLevel(newLevel). For SparkR, use setLogLevel(newLevel).\n",
      "25/06/09 10:29:15 WARN NativeCodeLoader: Unable to load native-hadoop library for your platform... using builtin-java classes where applicable\n"
     ]
    },
    {
     "name": "stdout",
     "output_type": "stream",
     "text": [
      "✅ Spark session created successfully.\n",
      "✅ DataFrame created.\n"
     ]
    },
    {
     "name": "stderr",
     "output_type": "stream",
     "text": [
      "                                                                                \r"
     ]
    },
    {
     "name": "stdout",
     "output_type": "stream",
     "text": [
      "+-------+---+\n",
      "|   Name|Age|\n",
      "+-------+---+\n",
      "|  Alice| 25|\n",
      "|    Bob| 30|\n",
      "|Charlie| 35|\n",
      "+-------+---+\n",
      "\n",
      "✅ Transformed DataFrame:\n",
      "+-------+---+-----------+\n",
      "|   Name|Age|AgePlusFive|\n",
      "+-------+---+-----------+\n",
      "|  Alice| 25|         30|\n",
      "|    Bob| 30|         35|\n",
      "|Charlie| 35|         40|\n",
      "+-------+---+-----------+\n",
      "\n",
      "✅ Spark session stopped.\n"
     ]
    }
   ],
   "source": [
    "from pyspark.sql import SparkSession\n",
    "from pyspark.sql.functions import col\n",
    "\n",
    "def main():\n",
    "    # Create a Spark session\n",
    "    spark = SparkSession.builder \\\n",
    "        .appName(\"PySpark Test\") \\\n",
    "        .master(\"local[*]\") \\\n",
    "        .getOrCreate()\n",
    "\n",
    "    print(\"✅ Spark session created successfully.\")\n",
    "\n",
    "    # Sample data\n",
    "    data = [(\"Alice\", 25), (\"Bob\", 30), (\"Charlie\", 35)]\n",
    "    columns = [\"Name\", \"Age\"]\n",
    "\n",
    "    # Create DataFrame\n",
    "    df = spark.createDataFrame(data, columns)\n",
    "    print(\"✅ DataFrame created.\")\n",
    "    df.show()\n",
    "\n",
    "    # Add 5 years to age\n",
    "    df_transformed = df.withColumn(\"AgePlusFive\", col(\"Age\") + 5)\n",
    "    print(\"✅ Transformed DataFrame:\")\n",
    "    df_transformed.show()\n",
    "\n",
    "    # Stop Spark session\n",
    "    spark.stop()\n",
    "    print(\"✅ Spark session stopped.\")\n",
    "\n",
    "if __name__ == \"__main__\":\n",
    "    main()\n"
   ]
  }
 ],
 "metadata": {
  "kernelspec": {
   "display_name": ".venv",
   "language": "python",
   "name": "python3"
  },
  "language_info": {
   "codemirror_mode": {
    "name": "ipython",
    "version": 3
   },
   "file_extension": ".py",
   "mimetype": "text/x-python",
   "name": "python",
   "nbconvert_exporter": "python",
   "pygments_lexer": "ipython3",
   "version": "3.13.3"
  }
 },
 "nbformat": 4,
 "nbformat_minor": 5
}
