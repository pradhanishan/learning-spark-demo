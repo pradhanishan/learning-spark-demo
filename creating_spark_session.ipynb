{
 "cells": [
  {
   "cell_type": "code",
   "execution_count": 13,
   "id": "8fd19493",
   "metadata": {},
   "outputs": [],
   "source": [
    "from pyspark.sql import SparkSession\n",
    "from pyspark import SparkConf\n",
    "from lib.logger import Log4J\n",
    "from lib.utils import get_spark_app_config"
   ]
  },
  {
   "cell_type": "code",
   "execution_count": 14,
   "id": "423f26b8",
   "metadata": {},
   "outputs": [],
   "source": [
    "# \"local[3]\" -> jvm with 3 nodes.\n",
    "\n",
    "conf = get_spark_app_config()\n",
    "\n",
    "spark = SparkSession.builder \\\n",
    "    .config(conf=conf) \\\n",
    "    .getOrCreate()"
   ]
  },
  {
   "cell_type": "code",
   "execution_count": 15,
   "id": "d721f2c8",
   "metadata": {},
   "outputs": [
    {
     "name": "stderr",
     "output_type": "stream",
     "text": [
      "25/06/09 12:35:48 WARN PySparkApp: ⚠️ This is a warning message.\n",
      "25/06/09 12:35:48 ERROR PySparkApp: ❌ Something went wrong!\n",
      "25/06/09 12:35:48 FATAL PySparkApp: 🔥 Fatal error.\n"
     ]
    }
   ],
   "source": [
    "logger = Log4J(spark)\n",
    "logger.info(\"✅ Spark job started.\")\n",
    "logger.warn(\"⚠️ This is a warning message.\")\n",
    "logger.error(\"❌ Something went wrong!\")\n",
    "logger.debug(\"🐛 Debugging info here.\")\n",
    "logger.fatal(\"🔥 Fatal error.\")"
   ]
  },
  {
   "cell_type": "code",
   "execution_count": 16,
   "id": "92ab4249",
   "metadata": {},
   "outputs": [],
   "source": [
    "spark.stop()"
   ]
  }
 ],
 "metadata": {
  "kernelspec": {
   "display_name": ".venv",
   "language": "python",
   "name": "python3"
  },
  "language_info": {
   "codemirror_mode": {
    "name": "ipython",
    "version": 3
   },
   "file_extension": ".py",
   "mimetype": "text/x-python",
   "name": "python",
   "nbconvert_exporter": "python",
   "pygments_lexer": "ipython3",
   "version": "3.13.3"
  }
 },
 "nbformat": 4,
 "nbformat_minor": 5
}
